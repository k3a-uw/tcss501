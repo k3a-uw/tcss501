{
 "cells": [
  {
   "cell_type": "markdown",
   "metadata": {
    "pycharm": {
     "name": "#%% md\n"
    }
   },
   "source": [
    "# WEEK 1 INTRODUCTION TO ALGORITHM ANALYSIS\n",
    "\n",
    "We are going to have a peak at a few different sorting algorithms to see how long they take to run.\n",
    "\n",
    "## Step 1 Init\n",
    "First we will start by importing some libraries and initializing some variables.  Don't worry if you don't understand this syntax, or how to use these libraries, they are for illustrative purposes only (for the moment)."
   ]
  },
  {
   "cell_type": "code",
   "execution_count": 15,
   "metadata": {
    "pycharm": {
     "name": "#%%\n"
    }
   },
   "outputs": [
    {
     "name": "stdout",
     "output_type": "stream",
     "text": [
      "[   100   1109   2118   3127   4136   5145   6154   7163   8172   9181\n",
      "  10190  11200  12209  13218  14227  15236  16245  17254  18263  19272\n",
      "  20281  21290  22300  23309  24318  25327  26336  27345  28354  29363\n",
      "  30372  31381  32390  33400  34409  35418  36427  37436  38445  39454\n",
      "  40463  41472  42481  43490  44500  45509  46518  47527  48536  49545\n",
      "  50554  51563  52572  53581  54590  55600  56609  57618  58627  59636\n",
      "  60645  61654  62663  63672  64681  65690  66700  67709  68718  69727\n",
      "  70736  71745  72754  73763  74772  75781  76790  77800  78809  79818\n",
      "  80827  81836  82845  83854  84863  85872  86881  87890  88900  89909\n",
      "  90918  91927  92936  93945  94954  95963  96972  97981  98990 100000]\n"
     ]
    }
   ],
   "source": [
    "import pandas as pd\n",
    "import numpy as np\n",
    "import matplotlib.pyplot as plt\n",
    "import random\n",
    "import time\n",
    "import sys\n",
    "\n",
    "MIN_SAMPLE_SIZE = 100\n",
    "MAX_SAMPLE_SIZE = 100000\n",
    "NUM_SAMPLES = 100\n",
    "\n",
    "sample_sizes = np.linspace(MIN_SAMPLE_SIZE,\n",
    "                           MAX_SAMPLE_SIZE,\n",
    "                           NUM_SAMPLES,\n",
    "                           dtype='int')\n",
    "\n",
    "# THIS MAY TAKE SOME TIME ON SLOWER MACHINES YOU CAN REDUZE THE NUMBER OF SAMPLES OR SAMPLE SIZE ABOVE\n",
    "samples = []\n",
    "for sample_size in sample_sizes:\n",
    "    samples.append([random.randint(1, 100) for i in range(0, sample_size)])\n",
    "\n",
    "\n",
    "print(sample_sizes)\n",
    "\n"
   ]
  },
  {
   "cell_type": "markdown",
   "metadata": {},
   "source": [
    "## Step 2 More init\n",
    "Just defining a few of the functions and algorithms.  We won't go over them step by step, but I'll very quickly explain them."
   ]
  },
  {
   "cell_type": "code",
   "execution_count": 16,
   "metadata": {
    "pycharm": {
     "name": "#%%\n"
    }
   },
   "outputs": [],
   "source": [
    "def array_reverse(input_list):\n",
    "    \"\"\"\n",
    "    Reverses the elements of the list to demonstrate a linear algorithm of reversing an array of things.\n",
    "\n",
    "    :param input_list A list of objects to be reversed.\n",
    "    :return A returned version/copy of the list..\n",
    "    \"\"\"\n",
    "\n",
    "    array_len = len(input_list)\n",
    "\n",
    "    i = 0;\n",
    "\n",
    "    output_list = [None] * array_len\n",
    "\n",
    "    while i < array_len:\n",
    "        output_list[i] = input_list[array_len-1 - i]\n",
    "        i += 1\n",
    "\n",
    "    return output_list\n"
   ]
  },
  {
   "cell_type": "code",
   "execution_count": 17,
   "metadata": {
    "pycharm": {
     "name": "#%%\n"
    }
   },
   "outputs": [],
   "source": [
    "def bubble_sort(input_list):\n",
    "    for i in range(0, len(input_list)):\n",
    "        for j in range(i+1, len(input_list)):\n",
    "            if input_list[i] > input_list[j]:\n",
    "                tmp = input_list[i]\n",
    "                input_list[i] = input_list[j]\n",
    "                input_list[j] = tmp\n",
    "\n",
    "    return input_list\n"
   ]
  },
  {
   "cell_type": "code",
   "execution_count": 18,
   "metadata": {
    "pycharm": {
     "name": "#%%\n"
    }
   },
   "outputs": [],
   "source": [
    "def merge_sort(input_list):\n",
    "    if len(input_list) > 1:\n",
    "        split = len(input_list) // 2\n",
    "        left = input_list[:split]\n",
    "        right = input_list[split:]\n",
    "        left = merge_sort(left)\n",
    "        right = merge_sort(right)\n",
    "\n",
    "        output = []\n",
    "        left_index = 0\n",
    "        right_index = 0\n",
    "        inst_c = 0\n",
    "        while left_index < len(left) and right_index < len(right):\n",
    "            inst_c += 1\n",
    "            if left[left_index] < right[right_index]:\n",
    "                output.append(left[left_index])\n",
    "                left_index += 1\n",
    "            else:\n",
    "                output.append(right[right_index])\n",
    "                right_index += 1\n",
    "\n",
    "        while left_index < len(left):\n",
    "            output.append((left[left_index]))\n",
    "            left_index += 1\n",
    "\n",
    "        while right_index < len(right):\n",
    "            output.append(right[right_index])\n",
    "            right_index += 1\n",
    "\n",
    "        return output\n",
    "    return input_list\n"
   ]
  },
  {
   "cell_type": "code",
   "execution_count": 19,
   "metadata": {
    "pycharm": {
     "name": "#%%\n"
    }
   },
   "outputs": [],
   "source": [
    "def draw_plot(x, y, title=\"My Cool Chart\"):\n",
    "    plt.ylabel(\"Steps to Complete\")\n",
    "    plt.xlabel(\"Input Size\")\n",
    "    plt.title(title)\n",
    "    plt.ylim(0, max(y)*1.05)\n",
    "    plt.plot(x , y, linestyle='--', marker='o')\n",
    "    plt.show()\n"
   ]
  },
  {
   "cell_type": "markdown",
   "metadata": {
    "pycharm": {
     "name": "#%%\n"
    }
   },
   "source": [
    "## Step 3 Now we are just going to time a few of these algorithms for different sample sizes and plot them to see how long they take!\n",
    "\n",
    "### 3a.   Array Reversal"
   ]
  },
  {
   "cell_type": "code",
   "execution_count": 21,
   "metadata": {
    "scrolled": true
   },
   "outputs": [
    {
     "name": "stdout",
     "output_type": "stream",
     "text": [
      "Reversed the 100000 element array in 0.02 seconds.\n",
      "\n",
      "Test Complete, Total Duration: 0.89 seconds.\n"
     ]
    }
   ],
   "source": [
    "runtimes = []\n",
    "tot_start = time.perf_counter()\n",
    "for sample in samples:\n",
    "    start = time.perf_counter()\n",
    "    r = array_reverse(sample)\n",
    "    duration_seconds = time.perf_counter() - start\n",
    "    runtimes.append(duration_seconds)\n",
    "    print(f\"Reversed the {len(sample)} element array in {duration_seconds:.2f} seconds.\", end=\"\\r\")\n",
    "\n",
    "tot_duration_seconds = time.perf_counter() - tot_start\n",
    "print(f\"\\n\\nTest Complete, Total Duration: {tot_duration_seconds:.2f} seconds.\")"
   ]
  },
  {
   "cell_type": "markdown",
   "metadata": {},
   "source": [
    "The blow plot shows that the growh of this is pretty much a straight line.  We would consider this a \"linear\" algorithm or O(n)"
   ]
  },
  {
   "cell_type": "code",
   "execution_count": 22,
   "metadata": {
    "scrolled": false
   },
   "outputs": [
    {
     "data": {
      "image/png": "[encoded data removed]",
      "text/plain": [
       "<Figure size 432x288 with 1 Axes>"
      ]
     },
     "metadata": {
      "needs_background": "light"
     },
     "output_type": "display_data"
    }
   ],
   "source": [
    "draw_plot(sample_sizes, runtimes, \"Linear Algorithm O(n): Reverse\")"
   ]
  },
  {
   "cell_type": "markdown",
   "metadata": {},
   "source": [
    "### 3b.  Merge Sort"
   ]
  },
  {
   "cell_type": "code",
   "execution_count": 23,
   "metadata": {},
   "outputs": [
    {
     "name": "stdout",
     "output_type": "stream",
     "text": [
      "Merge Sorted the 100000 element array in 0.57 seconds.\n",
      "\n",
      "Test Complete, Total Duration: 0.57 seconds.\n"
     ]
    }
   ],
   "source": [
    "runtimes = []\n",
    "tot_start = time.perf_counter()\n",
    "for sample in samples:\n",
    "    start = time.perf_counter()\n",
    "    r = merge_sort(sample)\n",
    "    duration_seconds = time.perf_counter() - start\n",
    "    runtimes.append(duration_seconds)\n",
    "    print(f\"Merge Sorted the {len(sample)} element array in {duration_seconds:.2f} seconds.\", end=\"\\r\")\n",
    "\n",
    "tot_duration_seconds = time.perf_counter() - start\n",
    "print(f\"\\n\\nTest Complete, Total Duration: {tot_duration_seconds:.2f} seconds.\")"
   ]
  },
  {
   "cell_type": "markdown",
   "metadata": {},
   "source": [
    "Depending on your PC, this sort may look linear, but should start to curve upward just slightly.  This is O(n*ln(n))"
   ]
  },
  {
   "cell_type": "code",
   "execution_count": 24,
   "metadata": {
    "scrolled": false
   },
   "outputs": [
    {
     "data": {
      "image/png": "[encoded data removed]",
      "text/plain": [
       "<Figure size 432x288 with 1 Axes>"
      ]
     },
     "metadata": {
      "needs_background": "light"
     },
     "output_type": "display_data"
    }
   ],
   "source": [
    "draw_plot(sample_sizes, runtimes, \"N log N Algorithm O(n log(n)): Merge Sort\")"
   ]
  },
  {
   "cell_type": "markdown",
   "metadata": {},
   "source": [
    "## 3c.  Bubble Sort\n",
    "This is a pretty slow algorithm, so i'm only going to run the first 10 examples."
   ]
  },
  {
   "cell_type": "code",
   "execution_count": 33,
   "metadata": {},
   "outputs": [
    {
     "name": "stdout",
     "output_type": "stream",
     "text": [
      "Bubble Sort the 9181 element array in 3.44 seconds.\n",
      "\n",
      "Test Complete, Total Duration: 3.44 seconds.\n"
     ]
    }
   ],
   "source": [
    "runtimes = []\n",
    "tot_start = time.perf_counter()\n",
    "for sample in samples[0:10]:\n",
    "    start = time.perf_counter()\n",
    "    r = bubble_sort(sample)\n",
    "    duration_seconds = time.perf_counter() - start\n",
    "    runtimes.append(duration_seconds)\n",
    "    print(f\"Bubble Sorted the {len(sample)} element array in {duration_seconds:.2f} seconds.\", end=\"\\r\")\n",
    "\n",
    "tot_duration_seconds = time.perf_counter()\n",
    "print(f\"\\n\\nTest Complete, Total Duration: {tot_duration_seconds:.2f} seconds.\")"
   ]
  },
  {
   "cell_type": "markdown",
   "metadata": {},
   "source": [
    "As you can see i the chart below, the time it takes to sort larger and larger lists wiht bubble sort grows exponentially.  This is Polynomial time.  And once N starts getting even in the 10s of thousands, the program starts to run extremely slow."
   ]
  },
  {
   "cell_type": "code",
   "execution_count": 39,
   "metadata": {
    "scrolled": false
   },
   "outputs": [
    {
     "data": {
      "image/png": "[encoded data removed]",
      "text/plain": [
       "<Figure size 432x288 with 1 Axes>"
      ]
     },
     "metadata": {
      "needs_background": "light"
     },
     "output_type": "display_data"
    }
   ],
   "source": [
    "draw_plot(sample_sizes[0:10], runtimes, \"Polynomial Time Algorithm O(n^2): Merge Sort\")\n"
   ]
  },
  {
   "cell_type": "markdown",
   "metadata": {},
   "source": [
    "Try some of your own algorithms and see how fast they run!"
   ]
  },
  {
   "cell_type": "code",
   "execution_count": null,
   "metadata": {},
   "outputs": [],
   "source": []
  }
 ],
 "metadata": {
  "kernelspec": {
   "display_name": "Python 3",
   "language": "python",
   "name": "python3"
  },
  "language_info": {
   "codemirror_mode": {
    "name": "ipython",
    "version": 3
   },
   "file_extension": ".py",
   "mimetype": "text/x-python",
   "name": "python",
   "nbconvert_exporter": "python",
   "pygments_lexer": "ipython3",
   "version": "3.8.5"
  }
 },
 "nbformat": 4,
 "nbformat_minor": 1
}
