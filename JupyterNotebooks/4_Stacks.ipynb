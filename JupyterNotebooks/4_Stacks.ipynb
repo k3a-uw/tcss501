{
 "cells": [
  {
   "cell_type": "markdown",
   "metadata": {
    "pycharm": {
     "name": "#%% md\n"
    }
   },
   "source": [
    "# WEEK 4 Stacks and Queues\n",
    "\n",
    "This notebook demonstrates uses of stacks and queues, the simple but powerful data structures used for managing data in a Last In/First Out (LIFO) or First In/First Out (FIFO) manner.\n",
    "\n",
    "## Section 1: Postfix Notation Introduction\n",
    "\n",
    "As citizens of an arithmetic savvy world, we're used to seeing our mathematical expressions in _infix_ notation, where the Operator sits in between the two Operands, resulting in expressions that look like this: $A + B$ or $C * D$.  To execute expressions in infix notation, you must have an understanding of Order of Operations.  For example, $4 * (3 + 2)$ you know that the addition in the parenthesis is performed first.  This is good for people, but not as simple for computers.\n",
    "\n",
    "There is an alternative, though, called _postfix_ notation, where the Operator comes **after** the Operands.  Instead of $A + B$, we write $A B +$.  Using _postfix_ notation, we can use a stack to evaluate the expression.\n",
    "\n",
    "Another, less trivial example is $15 + 3 * 4 - 5 = 22$.  This expression would be written $15$ $3$ $4$ $*$ $+$  $5$ $-$ in postfix notation.\n",
    "\n",
    "The idea is that you will push values onto a stack until you see an operator, in which case you will perform said operation on the previous two numbers.\n",
    "\n",
    "### Create a Stack Data Structure\n",
    "To get started, we are going to create a basic stack data structure."
   ]
  },
  {
   "cell_type": "code",
   "execution_count": 28,
   "metadata": {
    "pycharm": {
     "name": "#%%\n"
    }
   },
   "outputs": [],
   "source": [
    "class Stack:\n",
    "    class StackNode:\n",
    "        def __init__(self, data=None):\n",
    "            self.data = data\n",
    "            self.next = None\n",
    "    \n",
    "    def __init__(self):\n",
    "        self.top = None\n",
    "        self.size = 0\n",
    "            \n",
    "    def is_empty(self):\n",
    "        return self.size == 0\n",
    "\n",
    "    def push(self, data):\n",
    "        n = Stack.StackNode(data)\n",
    "        \n",
    "        if self.is_empty():\n",
    "            self.top = n\n",
    "        else:\n",
    "            n.next = self.top\n",
    "            self.top = n\n",
    "            \n",
    "        self.size += 1\n",
    "        \n",
    "    def pop(self):\n",
    "        if self.is_empty():\n",
    "            return None\n",
    "        else:\n",
    "            r = self.top\n",
    "            self.top = self.top.next\n",
    "            self.size -= 1\n",
    "            return r.data\n",
    "        \n",
    "    def peek(self):\n",
    "        return self.top.data if not self.is_empty() else None\n",
    "        "
   ]
  },
  {
   "cell_type": "markdown",
   "metadata": {},
   "source": [
    "With our basic stack data structure, we can write an expression taht will perform the supported operations, $+, -, *, /, ^$\n",
    "\n",
    "For the sake of simplicity we are goign to assume the expression has already been validated as a properly formed expression, consisting of only operators (numbers) and operands ($+, -, *, /, ^$) separated by spaces.\n",
    "\n",
    "For example: ```15 3 4 * + 5 -```"
   ]
  },
  {
   "cell_type": "code",
   "execution_count": 29,
   "metadata": {
    "pycharm": {
     "name": "#%%\n"
    }
   },
   "outputs": [],
   "source": [
    "def do_math(a, b, op):\n",
    "    af = float(a)\n",
    "    bf = float(b)\n",
    "    \n",
    "    if op == \"+\":\n",
    "        return af+bf\n",
    "    elif op == \"-\":\n",
    "        return af-bf\n",
    "    elif op == \"*\":\n",
    "        return af*bf\n",
    "    elif op == \"/\":\n",
    "        return af/bf\n",
    "    elif op == \"^\":\n",
    "        return af**bf\n",
    "\n",
    "\n",
    "def solve_postfix(expr):\n",
    "    s = Stack()\n",
    "    \n",
    "    # SPLITTING BY SPACES ALLOWS US TO DO WORK ON VALUES > 10, AND DO FLOATING POINT MATH\n",
    "    expr_split = expr.split(\" \")\n",
    "    \n",
    "    operators = [\"+\", \"-\", \"*\", \"/\", \"^\"]\n",
    "    \n",
    "    for ch in expr_split:\n",
    "        \n",
    "        if ch in operators:\n",
    "            b = s.pop()\n",
    "            a = s.pop()\n",
    "            s.push(do_math(a,b,ch))\n",
    "        else:\n",
    "            s.push(ch)\n",
    "            \n",
    "    return s.pop()"
   ]
  },
  {
   "cell_type": "markdown",
   "metadata": {
    "pycharm": {
     "name": "#%%\n"
    }
   },
   "source": [
    "### Testing out the Expression\n",
    "\n",
    "Recall the infix example $15 + 3 * 4 - 5 = 22$.  Which in postfix notation is written:$15$ $3$ $4$ $*$ $+$  $5$ $-$.\n",
    "\n",
    "Let's feed that into the ```postfix()``` function and see if we get the correct answer.\n"
   ]
  },
  {
   "cell_type": "code",
   "execution_count": 30,
   "metadata": {
    "pycharm": {
     "name": "#%%\n"
    }
   },
   "outputs": [
    {
     "name": "stdout",
     "output_type": "stream",
     "text": [
      "We expected: 22, Got: 22.0, Match T/F: True\n"
     ]
    }
   ],
   "source": [
    "expr = \"15 3 4 * + 5 -\"\n",
    "\n",
    "expected_answer = 22\n",
    "\n",
    "result = solve_postfix(expr)\n",
    "\n",
    "print(f\"We expected: {expected_answer}, Got: {result}, Match T/F: {expected_answer == result}\")"
   ]
  },
  {
   "cell_type": "markdown",
   "metadata": {
    "pycharm": {
     "name": "#%%\n"
    }
   },
   "source": [
    "### Looks Great!\n",
    "\n",
    "The test came out as expected.  Now for the more complicated part.  Converting an infix expression into a postfix expression so that is can be handled by a stack.\n",
    "\n",
    "## Section 2:  Creating an Infix to Postfix Converter\n",
    "\n",
    "To create a infix converter, we need to setup a few things. First we need to know the order of operations as mentioned before.  So we set this up with setting priority:  $+$ and $-$ are lowest priority, $*$ and $/$ are middle priority and $^$ is the highest.  We will also handle parenthesis so that the inner most expressions are handled first.\n",
    "\n",
    "We will also assume that the input is a set of operators and operands, separated by spaces, the same as our postfix calculator.\n",
    "\n",
    "### Using a Stack\n",
    "We will use a stack to keep track of the parenthesis as we come across them, and to make sure the operators are placed in the proper order."
   ]
  },
  {
   "cell_type": "code",
   "execution_count": 31,
   "metadata": {},
   "outputs": [],
   "source": [
    "def infix_to_postfix(expr):\n",
    "    operators = [\"+\", \"-\", \"*\", \"/\", \"^\", \"(\", \")\"]\n",
    "\n",
    "    order_of_ops = {'+': 1, '-': 1, '*': 2, '/': 2, '^': 3}\n",
    "\n",
    "    s = Stack()\n",
    "\n",
    "    expr_split = expr.split(\" \")\n",
    "\n",
    "    postfix_expr = ''\n",
    "\n",
    "    for ch in expr_split:\n",
    "        if ch not in operators:\n",
    "            # place the operand on the postfix_expression\n",
    "            postfix_expr += ch + \" \"\n",
    "        elif ch == \"(\":\n",
    "            # new open paren, push it onto the stack\n",
    "            s.push(ch)\n",
    "        elif ch == \")\":\n",
    "            # closing paren, pop items until you see a matching paren:\n",
    "            while not s.is_empty() and s.peek() != '(':\n",
    "                postfix_expr += s.pop() + \" \"\n",
    "            s.pop()  # drop the matching \"parenthesis on the floor\"\n",
    "        else:\n",
    "            # we have an operator, so keep prop them in priority order.\n",
    "            while not s.is_empty() and s.peek() != '(' and \\\n",
    "                    order_of_ops[ch] <= order_of_ops[s.peek()]:\n",
    "                postfix_expr += s.pop() + \" \"\n",
    "\n",
    "            # push the character back\n",
    "            s.push(ch)\n",
    "\n",
    "    while not s.is_empty():\n",
    "        # if there are remaining operators still on the stack, add them to the end.\n",
    "        postfix_expr += s.pop() + \" \"\n",
    "\n",
    "        \n",
    "    return postfix_expr[:-1]  # return all but the final char which is a space."
   ]
  },
  {
   "cell_type": "markdown",
   "metadata": {},
   "source": [
    "We can now use the examples from the beginning to see if we are converting things correctly.\n",
    "\n",
    "$4 + (3 + 2)$ in Postfix Notation would be: $4$ $3$ $2$ $+$ $*$\n",
    "\n",
    "$15 + 3 * 4 - 5 = 22$ in Postfix Notation would be $15$ $3$ $4$ $*$ $+$  $5$ $-$.\n",
    "\n",
    "Let's try it out:"
   ]
  },
  {
   "cell_type": "code",
   "execution_count": 32,
   "metadata": {},
   "outputs": [
    {
     "name": "stdout",
     "output_type": "stream",
     "text": [
      "Easy Example\n",
      "Infix: 4 * ( 3 + 2 )\n",
      "Postfix: 4 3 2 + *\n",
      "Result: 20.0\n",
      "Harder Example\n",
      "Infix: 15 + 3 * 4 - 5\n",
      "Postfix: 15 3 4 * + 5 -\n",
      "Result: 22.0\n"
     ]
    }
   ],
   "source": [
    "infix_expr = '4 * ( 3 + 2 )'\n",
    "postfix_expr = infix_to_postfix(infix_expr)\n",
    "result = solve_postfix(postfix_expr)\n",
    "\n",
    "print(\"Easy Example\")\n",
    "print(f\"Infix: {infix_expr}\\nPostfix: {postfix_expr}\\nResult: {result}\")\n",
    "\n",
    "infix_expr = '15 + 3 * 4 - 5'\n",
    "postfix_expr = infix_to_postfix(infix_expr)\n",
    "result = solve_postfix(postfix_expr)\n",
    "\n",
    "print(\"Harder Example\")\n",
    "print(f\"Infix: {infix_expr}\\nPostfix: {postfix_expr}\\nResult: {result}\")\n"
   ]
  },
  {
   "cell_type": "markdown",
   "metadata": {},
   "source": [
    "Let's try a harder one that includes nested paranthesis and exponents."
   ]
  },
  {
   "cell_type": "code",
   "execution_count": 27,
   "metadata": {},
   "outputs": [
    {
     "name": "stdout",
     "output_type": "stream",
     "text": [
      "Infix: ( 5 + 4 ) * ( 5 + 4 ^ 2 * ( 2 + 2 ) - 100 ) + 279\n",
      "Postfix: 5 4 + 5 4 2 ^ 2 2 + * + 100 - * 279 +\n",
      "Result: 0.0\n"
     ]
    }
   ],
   "source": [
    "infix_expr = '( 5 + 4 ) * ( 5 + 4 ^ 2 * ( 2 + 2 ) - 100 ) + 279'\n",
    "postfix_expr = infix_to_postfix(infix_expr)\n",
    "\n",
    "result = solve_postfix(postfix_expr)\n",
    "print(f\"Infix: {infix_expr}\\nPostfix: {postfix_expr}\\nResult: {result}\")\n"
   ]
  },
  {
   "cell_type": "code",
   "execution_count": null,
   "metadata": {},
   "outputs": [],
   "source": []
  }
 ],
 "metadata": {
  "kernelspec": {
   "display_name": "Python 3",
   "language": "python",
   "name": "python3"
  },
  "language_info": {
   "codemirror_mode": {
    "name": "ipython",
    "version": 3
   },
   "file_extension": ".py",
   "mimetype": "text/x-python",
   "name": "python",
   "nbconvert_exporter": "python",
   "pygments_lexer": "ipython3",
   "version": "3.6.10"
  }
 },
 "nbformat": 4,
 "nbformat_minor": 1
}