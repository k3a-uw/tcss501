{
 "cells": [
  {
   "cell_type": "markdown",
   "metadata": {
    "pycharm": {
     "name": "#%% md\n"
    }
   },
   "source": [
    "# WEEK 2 Code Analysis, Recusion\n",
    "\n",
    "This notebook demonstrates a few different recursive functions, and alternative approaches to solving the same problem.\n",
    "\n",
    "## Section 1: Factorial\n",
    "Factorials are good way to start learning about recursion.\n",
    "$n! = 1*2*3*...*n = \\prod_{i=1}^n i$\n",
    "\n",
    "$0! = 1$\n",
    "\n",
    "It can be written using a recursive definition as well:\n",
    "$n! = n * (n-1)!$\n",
    "\n",
    "$0! = 1$\n",
    "\n",
    "To implement linearly, we need just need to iterate over 1...n multiplying the previous value by n."
   ]
  },
  {
   "cell_type": "code",
   "execution_count": 1,
   "metadata": {
    "pycharm": {
     "name": "#%%\n"
    }
   },
   "outputs": [
    {
     "name": "stdout",
     "output_type": "stream",
     "text": [
      "0! = 1\n",
      "1! = 1\n",
      "2! = 2\n",
      "3! = 6\n",
      "4! = 24\n",
      "5! = 120\n",
      "6! = 720\n",
      "7! = 5040\n",
      "8! = 40320\n",
      "9! = 362880\n",
      "10! = 3628800\n"
     ]
    }
   ],
   "source": [
    "def fact_lin(n):\n",
    "    ret = 1\n",
    "    for i in range(1, n+1):\n",
    "        ret *= i\n",
    "\n",
    "    return ret\n",
    "\n",
    "for i in range(0,11):\n",
    "    print(f\"{i}! = {fact_lin(i)}\")"
   ]
  },
  {
   "cell_type": "markdown",
   "metadata": {},
   "source": [
    "But we want to practice with recursion!  So let's solve this using an algorithm that implements the resursive definition of factorial."
   ]
  },
  {
   "cell_type": "code",
   "execution_count": 2,
   "metadata": {
    "pycharm": {
     "name": "#%%\n"
    }
   },
   "outputs": [
    {
     "name": "stdout",
     "output_type": "stream",
     "text": [
      "0! = 1\n",
      "1! = 1\n",
      "2! = 2\n",
      "3! = 6\n",
      "4! = 24\n",
      "5! = 120\n",
      "6! = 720\n",
      "7! = 5040\n",
      "8! = 40320\n",
      "9! = 362880\n",
      "10! = 3628800\n"
     ]
    }
   ],
   "source": [
    "def fact_rec(n):\n",
    "    return 1 if n == 0 else n* fact_rec(n-1)\n",
    "\n",
    "\n",
    "for i in range(0,11):\n",
    "    print(f\"{i}! = {fact_lin(i)}\")\n"
   ]
  },
  {
   "cell_type": "markdown",
   "metadata": {
    "pycharm": {
     "name": "#%%\n"
    }
   },
   "source": [
    "## Section 2: Fibonacci\n",
    "\n",
    "Another fun example is to generate the Fibonacci sequence.   The Fibonacci is most commonly defined using a resurive notation, stating that:\n",
    "\n",
    "$F(0) = 0$\n",
    "\n",
    "$F(1) = 1$\n",
    "\n",
    "$F(n) = F(n-2) + F(n-1)$\n",
    "\n",
    "Which will yeild the following sequence:\n",
    "$0,1,1,2,3,5,8,13,21,34,55...$\n",
    "\n",
    "Let's implement this using recursion\n"
   ]
  },
  {
   "cell_type": "code",
   "execution_count": 3,
   "metadata": {
    "pycharm": {
     "name": "#%%\n"
    }
   },
   "outputs": [
    {
     "name": "stdout",
     "output_type": "stream",
     "text": [
      "Fibonacci: 0,1,1,2,3,5,8,13,21,34,55,\b...\n"
     ]
    }
   ],
   "source": [
    "def fib_rec(n):\n",
    "    # base cases\n",
    "    return n if n <= 1 else fib_rec(n-2) + fib_rec(n-1)\n",
    "\n",
    "print(\"Fibonacci: \", end=\"\")\n",
    "for i in range(0,11):\n",
    "    print(f\"{fib_rec(i)}\", end=\",\")\n",
    "print(\"\\b...\") # get rid of the last comma"
   ]
  },
  {
   "cell_type": "markdown",
   "metadata": {
    "pycharm": {
     "name": "#%%\n"
    }
   },
   "source": [
    "There's a bit of a problem with this approach.  We need to look at the Time Complexity of this recursive algorithm.\n",
    "\n",
    "It actually calculates out to be *EXPONENTIAL!* $O(n^2)$\n",
    "\n",
    "This means that to calculate the first 10 values, it will take 1024 steps, the first 20 over a million, first 30 over a billion.  First 50, over a quadrillion $(10^{15})$   \n",
    "\n",
    "We can clearly do much better than that, it's just a linear sequence:"
   ]
  },
  {
   "cell_type": "code",
   "execution_count": 4,
   "metadata": {
    "pycharm": {
     "name": "#%%\n"
    }
   },
   "outputs": [
    {
     "name": "stdout",
     "output_type": "stream",
     "text": [
      "Fibonacci: 0,1,1,2,3,5,8,13,21,34,55,\b...\n"
     ]
    }
   ],
   "source": [
    "def fib_lin(n):\n",
    "    if n == 0:\n",
    "        return 0\n",
    "    elif n == 1:\n",
    "        return 1\n",
    "    else:\n",
    "        n2 = 0\n",
    "        n1 = 1\n",
    "        for i in range(1,n):\n",
    "            ret = n2+n1\n",
    "            n2 = n1\n",
    "            n1 = ret\n",
    "        return ret\n",
    "\n",
    "    return tot\n",
    "\n",
    "print(\"Fibonacci: \", end=\"\")\n",
    "for i in range(0,11):\n",
    "    print(f\"{fib_rec(i)}\", end=\",\")\n",
    "print(\"\\b...\") # get rid of the last comma"
   ]
  },
  {
   "cell_type": "markdown",
   "metadata": {
    "pycharm": {
     "name": "#%%\n"
    }
   },
   "source": [
    "But can we get any better?  This is still linear time, $O(n)$\n",
    "\n",
    "If just so happens that there is a closed form of the Fibonnaci sequence!\n",
    "\n",
    "$\\frac{\\phi^n - \\psi^n}{\\sqrt{5}}$ Where: $\\phi = \\frac{1+\\sqrt{5}}{2}$ and $\\psi = \\frac{1-\\sqrt{5}}{2}$\n"
   ]
  },
  {
   "cell_type": "code",
   "execution_count": 5,
   "metadata": {
    "pycharm": {
     "name": "#%%\n"
    }
   },
   "outputs": [
    {
     "name": "stdout",
     "output_type": "stream",
     "text": [
      "Fibonacci: 0,1,1,2,3,5,8,13,21,34,55,\b...\n"
     ]
    }
   ],
   "source": [
    "def fib_const(n):\n",
    "    sq5 = 5**.5\n",
    "    psi = (1 - sq5) / 2\n",
    "    phi = (1 + sq5) / 2\n",
    "\n",
    "    approx = (phi**n - psi**n) / sq5\n",
    "    return int(approx)\n",
    "\n",
    "\n",
    "print(\"Fibonacci: \", end=\"\")\n",
    "for i in range(0,11):\n",
    "    print(f\"{fib_rec(i)}\", end=\",\")\n",
    "print(\"\\b...\") # get rid of the last comma"
   ]
  },
  {
   "cell_type": "markdown",
   "metadata": {},
   "source": [
    "Note the approximation and the casting to int.  This is required because $\\phi$ and $\\psi$ are irractional numbers and hence cannot be exactly stored in a comnputer.  However the precision held it within a rounding error for our purposes, so casting to int returns similar reesults.  Test to make sure!"
   ]
  },
  {
   "cell_type": "code",
   "execution_count": 6,
   "metadata": {
    "pycharm": {
     "name": "#%%\n"
    }
   },
   "outputs": [
    {
     "name": "stdout",
     "output_type": "stream",
     "text": [
      "They are identical for the first 50 values\n"
     ]
    }
   ],
   "source": [
    "error = False\n",
    "for i in range(0,71):\n",
    "    l = fib_lin(i)\n",
    "    c = fib_const(i)\n",
    "    \n",
    "    if l != c:\n",
    "        error = True\n",
    "        print(f\"There is a difference on F({i})\")\n",
    "\n",
    "if not error:\n",
    "    print(\"They are identical for the first 50 values\")\n",
    "        \n"
   ]
  },
  {
   "cell_type": "markdown",
   "metadata": {},
   "source": [
    "### 3b.  Merge Sort"
   ]
  },
  {
   "cell_type": "code",
   "execution_count": 7,
   "metadata": {
    "pycharm": {
     "name": "#%%\n"
    }
   },
   "outputs": [
    {
     "ename": "NameError",
     "evalue": "name 'time' is not defined",
     "output_type": "error",
     "traceback": [
      "\u001B[0;31m---------------------------------------------------------------------------\u001B[0m",
      "\u001B[0;31mNameError\u001B[0m                                 Traceback (most recent call last)",
      "\u001B[0;32m<ipython-input-7-5b3af93d42af>\u001B[0m in \u001B[0;36m<module>\u001B[0;34m\u001B[0m\n\u001B[1;32m      1\u001B[0m \u001B[0mruntimes\u001B[0m \u001B[0;34m=\u001B[0m \u001B[0;34m[\u001B[0m\u001B[0;34m]\u001B[0m\u001B[0;34m\u001B[0m\u001B[0;34m\u001B[0m\u001B[0m\n\u001B[0;32m----> 2\u001B[0;31m \u001B[0mtot_start\u001B[0m \u001B[0;34m=\u001B[0m \u001B[0mtime\u001B[0m\u001B[0;34m.\u001B[0m\u001B[0mperf_counter\u001B[0m\u001B[0;34m(\u001B[0m\u001B[0;34m)\u001B[0m\u001B[0;34m\u001B[0m\u001B[0;34m\u001B[0m\u001B[0m\n\u001B[0m\u001B[1;32m      3\u001B[0m \u001B[0;32mfor\u001B[0m \u001B[0msample\u001B[0m \u001B[0;32min\u001B[0m \u001B[0msamples\u001B[0m\u001B[0;34m:\u001B[0m\u001B[0;34m\u001B[0m\u001B[0;34m\u001B[0m\u001B[0m\n\u001B[1;32m      4\u001B[0m     \u001B[0mstart\u001B[0m \u001B[0;34m=\u001B[0m \u001B[0mtime\u001B[0m\u001B[0;34m.\u001B[0m\u001B[0mperf_counter\u001B[0m\u001B[0;34m(\u001B[0m\u001B[0;34m)\u001B[0m\u001B[0;34m\u001B[0m\u001B[0;34m\u001B[0m\u001B[0m\n\u001B[1;32m      5\u001B[0m     \u001B[0mr\u001B[0m \u001B[0;34m=\u001B[0m \u001B[0mmerge_sort\u001B[0m\u001B[0;34m(\u001B[0m\u001B[0msample\u001B[0m\u001B[0;34m)\u001B[0m\u001B[0;34m\u001B[0m\u001B[0;34m\u001B[0m\u001B[0m\n",
      "\u001B[0;31mNameError\u001B[0m: name 'time' is not defined"
     ]
    }
   ],
   "source": [
    "runtimes = []\n",
    "tot_start = time.perf_counter()\n",
    "for sample in samples:\n",
    "    start = time.perf_counter()\n",
    "    r = merge_sort(sample)\n",
    "    duration_seconds = time.perf_counter() - start\n",
    "    runtimes.append(duration_seconds)\n",
    "    print(f\"Merge Sorted the {len(sample)} element array in {duration_seconds:.2f} seconds.\", end=\"\\r\")\n",
    "\n",
    "tot_duration_seconds = time.perf_counter() - tot_start\n",
    "print(f\"\\n\\nTest Complete, Total Duration: {tot_duration_seconds:.2f} seconds.\")"
   ]
  },
  {
   "cell_type": "markdown",
   "metadata": {},
   "source": [
    "Depending on your PC, this sort may look linear, but should start to curve upward just slightly.  This is O(n*ln(n))"
   ]
  },
  {
   "cell_type": "code",
   "execution_count": null,
   "metadata": {
    "pycharm": {
     "name": "#%%\n"
    }
   },
   "outputs": [],
   "source": [
    "draw_plot(sample_sizes, runtimes, \"N log N Algorithm O(n log(n)): Merge Sort\")"
   ]
  },
  {
   "cell_type": "markdown",
   "metadata": {},
   "source": [
    "## 3c.  Bubble Sort\n",
    "This is a pretty slow algorithm, so i'm only going to run the first 10 examples."
   ]
  },
  {
   "cell_type": "code",
   "execution_count": null,
   "metadata": {
    "pycharm": {
     "name": "#%%\n"
    }
   },
   "outputs": [],
   "source": [
    "runtimes = []\n",
    "tot_start = time.perf_counter()\n",
    "for sample in samples[0:10]:\n",
    "    start = time.perf_counter()\n",
    "    r = bubble_sort(sample)\n",
    "    duration_seconds = time.perf_counter() - start\n",
    "    runtimes.append(duration_seconds)\n",
    "    print(f\"Bubble Sorted the {len(sample)} element array in {duration_seconds:.2f} seconds.\", end=\"\\r\")\n",
    "\n",
    "tot_duration_seconds = time.perf_counter() - tot_start\n",
    "print(f\"\\n\\nTest Complete, Total Duration: {tot_duration_seconds:.2f} seconds.\")"
   ]
  },
  {
   "cell_type": "markdown",
   "metadata": {},
   "source": [
    "As you can see i the chart below, the time it takes to sort larger and larger lists wiht bubble sort grows exponentially.  This is Polynomial time.  And once N starts getting even in the 10s of thousands, the program starts to run extremely slow."
   ]
  },
  {
   "cell_type": "code",
   "execution_count": null,
   "metadata": {
    "pycharm": {
     "name": "#%%\n"
    }
   },
   "outputs": [],
   "source": [
    "draw_plot(sample_sizes[0:10], runtimes, \"Polynomial Time Algorithm O(n^2): Bubble Sort\")\n"
   ]
  }
 ],
 "metadata": {
  "kernelspec": {
   "display_name": "Python 3",
   "language": "python",
   "name": "python3"
  }
 },
 "nbformat": 4,
 "nbformat_minor": 1
}