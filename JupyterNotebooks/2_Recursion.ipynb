{
 "cells": [
  {
   "cell_type": "markdown",
   "metadata": {
    "pycharm": {
     "name": "#%% md\n"
    }
   },
   "source": [
    "# WEEK 2 Code Analysis, Recusion\n",
    "\n",
    "This notebook demonstrates a few different recursive functions, and alternative approaches to solving the same problem.\n",
    "\n",
    "## Section 1: Factorial\n",
    "Factorials are good way to start learning about recursion.\n",
    "\n",
    "$n! = 1*2*3*...*n = \\prod_{i=1}^n i$\n",
    "\n",
    "$0! = 1$\n",
    "\n",
    "It can be written using a recursive definition as well:\n",
    "\n",
    "$n! = n * (n-1)!$\n",
    "\n",
    "$0! = 1$\n",
    "\n",
    "To implement linearly, we need just need to iterate over 1...n multiplying the previous value by n."
   ]
  },
  {
   "cell_type": "code",
   "execution_count": 28,
   "metadata": {
    "pycharm": {
     "name": "#%%\n"
    }
   },
   "outputs": [
    {
     "name": "stdout",
     "output_type": "stream",
     "text": [
      "0! = 1\n",
      "1! = 1\n",
      "2! = 2\n",
      "3! = 6\n",
      "4! = 24\n",
      "5! = 120\n",
      "6! = 720\n",
      "7! = 5040\n",
      "8! = 40320\n",
      "9! = 362880\n",
      "10! = 3628800\n"
     ]
    }
   ],
   "source": [
    "def fact_lin(n):\n",
    "    ret = 1\n",
    "    for i in range(1, n+1):\n",
    "        ret *= i\n",
    "\n",
    "    return ret\n",
    "\n",
    "for i in range(0,11):\n",
    "    print(f\"{i}! = {fact_lin(i)}\")"
   ]
  },
  {
   "cell_type": "markdown",
   "metadata": {},
   "source": [
    "But we want to practice with recursion!  So let's solve this using an algorithm that implements the resursive definition of factorial."
   ]
  },
  {
   "cell_type": "code",
   "execution_count": 29,
   "metadata": {
    "pycharm": {
     "name": "#%%\n"
    }
   },
   "outputs": [
    {
     "name": "stdout",
     "output_type": "stream",
     "text": [
      "0! = 1\n",
      "1! = 1\n",
      "2! = 2\n",
      "3! = 6\n",
      "4! = 24\n",
      "5! = 120\n",
      "6! = 720\n",
      "7! = 5040\n",
      "8! = 40320\n",
      "9! = 362880\n",
      "10! = 3628800\n"
     ]
    }
   ],
   "source": [
    "def fact_rec(n):\n",
    "    return 1 if n == 0 else n * fact_rec(n-1)\n",
    "\n",
    "\n",
    "for i in range(0,11):\n",
    "    print(f\"{i}! = {fact_rec(i)}\")\n"
   ]
  },
  {
   "cell_type": "markdown",
   "metadata": {
    "pycharm": {
     "name": "#%%\n"
    }
   },
   "source": [
    "## Section 2: Fibonacci\n",
    "\n",
    "Another fun example is to generate the Fibonacci sequence.   The Fibonacci is most commonly defined using a resurive notation, stating that:\n",
    "\n",
    "$F(0) = 0$\n",
    "\n",
    "$F(1) = 1$\n",
    "\n",
    "$F(n) = F(n-2) + F(n-1)$\n",
    "\n",
    "Which will yeild the following sequence:\n",
    "$0,1,1,2,3,5,8,13,21,34,55...$\n",
    "\n",
    "Let's implement this using recursion\n"
   ]
  },
  {
   "cell_type": "code",
   "execution_count": 30,
   "metadata": {
    "pycharm": {
     "name": "#%%\n"
    }
   },
   "outputs": [
    {
     "name": "stdout",
     "output_type": "stream",
     "text": [
      "Fibonacci: 0,1,1,2,3,5,8,13,21,34,55,\b...\n"
     ]
    }
   ],
   "source": [
    "def fib_rec(n):\n",
    "    # base cases\n",
    "    return n if n <= 1 else fib_rec(n-2) + fib_rec(n-1)\n",
    "\n",
    "print(\"Fibonacci: \", end=\"\")\n",
    "for i in range(0,11):\n",
    "    print(f\"{fib_rec(i)}\", end=\",\")\n",
    "print(\"\\b...\") # get rid of the last comma"
   ]
  },
  {
   "cell_type": "markdown",
   "metadata": {
    "pycharm": {
     "name": "#%%\n"
    }
   },
   "source": [
    "There's a bit of a problem with this approach.  We need to look at the Time Complexity of this recursive algorithm.\n",
    "\n",
    "It actually calculates out to be *EXPONENTIAL!* $O(2^n)$  -- see course slides for explanation.\n",
    "\n",
    "This means that to calculate the first 10 values, it will take 1024 steps, the first 20 values will take over a million steps, and the first 30 values will take over a billion... and the first 50, over a quadrillion $(10^{15})$   \n",
    "\n",
    "We can clearly do much better than that, it's just a linear sequence:"
   ]
  },
  {
   "cell_type": "code",
   "execution_count": 31,
   "metadata": {
    "pycharm": {
     "name": "#%%\n"
    }
   },
   "outputs": [
    {
     "name": "stdout",
     "output_type": "stream",
     "text": [
      "Fibonacci: 0,1,1,2,3,5,8,13,21,34,55,\b...\n"
     ]
    }
   ],
   "source": [
    "def fib_lin(n):\n",
    "    if n == 0:\n",
    "        return 0\n",
    "    elif n == 1:\n",
    "        return 1\n",
    "    else:\n",
    "        n2 = 0\n",
    "        n1 = 1\n",
    "        for i in range(1,n):\n",
    "            ret = n2+n1\n",
    "            n2 = n1\n",
    "            n1 = ret\n",
    "        return ret\n",
    "\n",
    "    return tot\n",
    "\n",
    "print(\"Fibonacci: \", end=\"\")\n",
    "for i in range(0,11):\n",
    "    print(f\"{fib_rec(i)}\", end=\",\")\n",
    "print(\"\\b...\") # get rid of the last comma"
   ]
  },
  {
   "cell_type": "markdown",
   "metadata": {
    "pycharm": {
     "name": "#%%\n"
    }
   },
   "source": [
    "But can we get any better?  This is still linear time, $O(n)$\n",
    "\n",
    "It just so happens that there is a closed form of the Fibonnaci sequence!\n",
    "\n",
    "$\\frac{\\phi^n - \\psi^n}{\\sqrt{5}}$ Where: $\\phi = \\frac{1+\\sqrt{5}}{2}$ and $\\psi = \\frac{1-\\sqrt{5}}{2}$\n"
   ]
  },
  {
   "cell_type": "code",
   "execution_count": 32,
   "metadata": {
    "pycharm": {
     "name": "#%%\n"
    }
   },
   "outputs": [
    {
     "name": "stdout",
     "output_type": "stream",
     "text": [
      "Fibonacci: 0,1,1,2,3,5,8,13,21,34,55,\b...\n"
     ]
    }
   ],
   "source": [
    "def fib_const(n):\n",
    "    sq5 = 5**.5\n",
    "    psi = (1 - sq5) / 2\n",
    "    phi = (1 + sq5) / 2\n",
    "\n",
    "    approx = (phi**n - psi**n) / sq5\n",
    "    return int(approx)\n",
    "\n",
    "import math\n",
    "def fib_const_pow(n):\n",
    "    sq5 = math.pow(5,.5)\n",
    "    psi = (1 - math.pow(5,.5)) / 2\n",
    "    phi = (1 + math.pow(5,.5)) / 2\n",
    "\n",
    "    approx = (math.pow(phi,n) - math.pow(psi,n)) / (phi - psi)\n",
    "    return int(approx)\n",
    "\n",
    "    \n",
    "\n",
    "\n",
    "print(\"Fibonacci: \", end=\"\")\n",
    "for i in range(0,11):\n",
    "    print(f\"{fib_rec(i)}\", end=\",\")\n",
    "print(\"\\b...\") # get rid of the last comma"
   ]
  },
  {
   "cell_type": "markdown",
   "metadata": {},
   "source": [
    "Note the approximation and the casting to int.  This is required because $\\phi$ and $\\psi$ are irractional numbers and hence cannot be exactly stored in a comnputer.  However the precision held it within a rounding error for our purposes, so casting to int returns similar reesults.  Test to make sure!"
   ]
  },
  {
   "cell_type": "code",
   "execution_count": 33,
   "metadata": {
    "pycharm": {
     "name": "#%%\n"
    }
   },
   "outputs": [
    {
     "name": "stdout",
     "output_type": "stream",
     "text": [
      "There is a difference of -1 on F(72), l=498454011879264, c=498454011879265\n",
      "There is a difference of -2 on F(73), l=806515533049393, c=806515533049395\n",
      "There is a difference of -3 on F(74), l=1304969544928657, c=1304969544928660\n",
      "There is a difference of -5 on F(75), l=2111485077978050, c=2111485077978055\n",
      "There is a difference of -8 on F(76), l=3416454622906707, c=3416454622906715\n",
      "There is a difference of -14 on F(77), l=5527939700884757, c=5527939700884771\n",
      "There is a difference of -24 on F(78), l=8944394323791464, c=8944394323791488\n",
      "There is a difference of -39 on F(79), l=14472334024676221, c=14472334024676260\n",
      "There is a difference of -59 on F(80), l=23416728348467685, c=23416728348467744\n",
      "There is a difference of -102 on F(81), l=37889062373143906, c=37889062373144008\n",
      "There is a difference of -161 on F(82), l=61305790721611591, c=61305790721611752\n",
      "There is a difference of -279 on F(83), l=99194853094755497, c=99194853094755776\n",
      "There is a difference of -464 on F(84), l=160500643816367088, c=160500643816367552\n",
      "There is a difference of -743 on F(85), l=259695496911122585, c=259695496911123328\n",
      "There is a difference of -1207 on F(86), l=420196140727489673, c=420196140727490880\n",
      "There is a difference of -2014 on F(87), l=679891637638612258, c=679891637638614272\n",
      "There is a difference of -3157 on F(88), l=1100087778366101931, c=1100087778366105088\n",
      "There is a difference of -5171 on F(89), l=1779979416004714189, c=1779979416004719360\n",
      "There is a difference of -8584 on F(90), l=2880067194370816120, c=2880067194370824704\n",
      "There is a difference of -14523 on F(91), l=4660046610375530309, c=4660046610375544832\n",
      "There is a difference of -22595 on F(92), l=7540113804746346429, c=7540113804746369024\n",
      "There is a difference of -37118 on F(93), l=12200160415121876738, c=12200160415121913856\n",
      "There is a difference of -59713 on F(94), l=19740274219868223167, c=19740274219868282880\n",
      "There is a difference of -98879 on F(95), l=31940434634990099905, c=31940434634990198784\n",
      "There is a difference of -166784 on F(96), l=51680708854858323072, c=51680708854858489856\n",
      "There is a difference of -265663 on F(97), l=83621143489848422977, c=83621143489848688640\n",
      "There is a difference of -440639 on F(98), l=135301852344706746049, c=135301852344707186688\n",
      "There is a difference of -722686 on F(99), l=218922995834555169026, c=218922995834555891712\n"
     ]
    }
   ],
   "source": [
    "error = False\n",
    "\n",
    "N = 100 # values to test...\n",
    "for i in range(0, N):\n",
    "    l = fib_lin(i)\n",
    "    c = fib_const(i)\n",
    "    \n",
    "    if l != c:\n",
    "        error = True\n",
    "        print(f\"There is a difference of {l-c} on F({i}), l={l}, c={c}\")\n",
    "\n",
    "if not error:\n",
    "    print(f\"They are identical for the first {N} values\")\n",
    "        \n"
   ]
  }
 ],
 "metadata": {
  "kernelspec": {
   "display_name": "Python 3",
   "language": "python",
   "name": "python3"
  },
  "language_info": {
   "codemirror_mode": {
    "name": "ipython",
    "version": 3
   },
   "file_extension": ".py",
   "mimetype": "text/x-python",
   "name": "python",
   "nbconvert_exporter": "python",
   "pygments_lexer": "ipython3",
   "version": "3.8.2"
  }
 },
 "nbformat": 4,
 "nbformat_minor": 1
}
